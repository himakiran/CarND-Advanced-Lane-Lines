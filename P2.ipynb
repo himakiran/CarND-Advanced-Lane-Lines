{
 "cells": [
  {
   "cell_type": "markdown",
   "metadata": {},
   "source": [
    "## Advanced Lane Finding Project\n",
    "\n",
    "The goals / steps of this project are the following:\n",
    "\n",
    "* Compute the camera calibration matrix and distortion coefficients given a set of chessboard images.\n",
    "* Apply a distortion correction to raw images.\n",
    "* Use color transforms, gradients, etc., to create a thresholded binary image.\n",
    "* Apply a perspective transform to rectify binary image (\"birds-eye view\").\n",
    "* Detect lane pixels and fit to find the lane boundary.\n",
    "* Determine the curvature of the lane and vehicle position with respect to center.\n",
    "* Warp the detected lane boundaries back onto the original image.\n",
    "* Output visual display of the lane boundaries and numerical estimation of lane curvature and vehicle position.\n",
    "\n",
    "---\n",
    "## First, I'll compute the camera calibration using chessboard images"
   ]
  },
  {
   "cell_type": "code",
   "execution_count": 425,
   "metadata": {},
   "outputs": [],
   "source": [
    "import numpy as np\n",
    "import cv2\n",
    "import glob\n",
    "import matplotlib.pyplot as plt\n",
    "import matplotlib.image as mpimg\n",
    "%matplotlib inline\n",
    "\n",
    "# prepare object points, like (0,0,0), (1,0,0), (2,0,0) ....,(6,5,0)\n",
    "objp = np.zeros((6*9,3), np.float32)\n",
    "objp[:,:2] = np.mgrid[0:9,0:6].T.reshape(-1,2)\n",
    "\n",
    "# Arrays to store object points and image points from all the images.\n",
    "objpoints = [] # 3d points in real world space\n",
    "imgpoints = [] # 2d points in image plane.\n",
    "# Make a list of calibration images\n",
    "images = glob.glob('camera_cal/calibration*.jpg')\n",
    "\n",
    "img = cv2.imread(images[0])\n",
    "gray = cv2.cvtColor(img,cv2.COLOR_BGR2GRAY)\n",
    "\n",
    "#print(len(images))\n",
    "\n",
    "#Step through the list and search for chessboard corners\n",
    "for fname in images:\n",
    "    #print(fname)\n",
    "    img = cv2.imread(fname)\n",
    "    gray = cv2.cvtColor(img,cv2.COLOR_BGR2GRAY)\n",
    "\n",
    "    # Find the chessboard corners\n",
    "    ret, corners = cv2.findChessboardCorners(gray, (9,6),None)\n",
    "\n",
    "    # If found, add object points, image points\n",
    "    if ret == True:\n",
    "        objpoints.append(objp)\n",
    "        imgpoints.append(corners)\n",
    "        # Draw and display the corners\n",
    "        img = cv2.drawChessboardCorners(img, (9,6), corners, ret)\n",
    "        # Writing the output images to the output_images folder\n",
    "        #cv2.imwrite(\"output_images/\"+fname+\"_CCoutput\"+\".jpg\",img)"
   ]
  },
  {
   "cell_type": "markdown",
   "metadata": {},
   "source": [
    "## Calibrate the camera and get the Camera Matrix and Distortion co-efficient"
   ]
  },
  {
   "cell_type": "code",
   "execution_count": 426,
   "metadata": {},
   "outputs": [],
   "source": [
    "ret, mtx, dist, rvecs, tvecs = cv2.calibrateCamera(objpoints, imgpoints, gray.shape[::-1], None, None)"
   ]
  },
  {
   "cell_type": "code",
   "execution_count": 427,
   "metadata": {},
   "outputs": [],
   "source": [
    "def cal_undistort(img, mtx, dist):    \n",
    "    # Use cv2.undistort()    \n",
    "    dst = cv2.undistort(img, mtx, dist, None, mtx)\n",
    "    return dst"
   ]
  },
  {
   "cell_type": "markdown",
   "metadata": {},
   "source": [
    "## Checking distortion correction on test_images"
   ]
  },
  {
   "cell_type": "code",
   "execution_count": 428,
   "metadata": {},
   "outputs": [],
   "source": [
    "images = glob.glob('test_images/test*.jpg')\n",
    "for each in images:\n",
    "    #print(each[12:17])\n",
    "    img = cv2.imread(each)\n",
    "    dst = cal_undistort(img,mtx,dist)\n",
    "    # Saving the undistorted images to the output dir\n",
    "    #cv2.imwrite(\"output_images/undistorted_images/\"+each[12:17]+\".jpg\",dst)\n",
    "images = glob.glob('test_images/straight_lines*.jpg')\n",
    "for each in images:\n",
    "    #print(each[12:27])\n",
    "    img = cv2.imread(each)\n",
    "    dst = cal_undistort(img,mtx,dist)\n",
    "    #Saving the undistorted images to the output dir\n",
    "    #cv2.imwrite(\"output_images/undistorted_images/\"+each[12:27]+\".jpg\",dst)    \n"
   ]
  },
  {
   "cell_type": "markdown",
   "metadata": {},
   "source": [
    "## Selecting Source and Destination points for Perspective Transform "
   ]
  },
  {
   "cell_type": "code",
   "execution_count": 431,
   "metadata": {},
   "outputs": [],
   "source": [
    "src = np.float32([[595,449],[681,449] ,[200,720],[1120,720]])\n",
    "dst = np.float32([[360,0],[1050,0] ,[360,720],[1050,720]])\n",
    "\n",
    "def do_perspective_transform(img):\n",
    "    M = cv2.getPerspectiveTransform(src,dst)\n",
    "    Minv = cv2.getPerspectiveTransform(dst,src)\n",
    "    warped = cv2.warpPerspective(img,M,img_size,flags=cv2.INTER_LINEAR)\n",
    "#     f, (ax1, ax2) = plt.subplots(1, 2, figsize=(24, 9))\n",
    "#     f.tight_layout()\n",
    "#     ax1.imshow(img)\n",
    "#     x = [src[0][0],src[2][0],src[3][0],src[1][0],src[0][0]]\n",
    "#     y = [src[0][1],src[2][1],src[3][1],src[1][1],src[0][1]]\n",
    "#     ax1.plot(x, y, color='#ff0000', alpha=0.4, linewidth=3, solid_capstyle='round', zorder=2)\n",
    "#     ax1.set_title('Original Undistorted Image', fontsize=30)\n",
    "#     ax2.imshow(warped)\n",
    "#     x = [dst[0][0],dst[2][0],dst[3][0],dst[1][0],dst[0][0]]\n",
    "#     y = [dst[0][1],dst[2][1],dst[3][1],dst[1][1],dst[0][1]]\n",
    "#     ax2.plot(x, y, color='#ff0000', alpha=0.4, linewidth=3, solid_capstyle='round', zorder=2)\n",
    "#     ax2.set_title('Perspective transformed Image', fontsize=30)\n",
    "#     plt.subplots_adjust(left=0., right=1, top=0.9, bottom=0.)\n",
    "    return warped,Minv\n",
    "#do_perspective_transform(img)"
   ]
  },
  {
   "cell_type": "markdown",
   "metadata": {},
   "source": [
    "## Carrying out Perspective Transform on all Undistorted test images"
   ]
  },
  {
   "cell_type": "code",
   "execution_count": 317,
   "metadata": {},
   "outputs": [],
   "source": [
    "images = glob.glob('output_images/undistorted_images/test*.jpg')\n",
    "for each in images:\n",
    "    #print(each[33:38])\n",
    "    img = mpimg.imread(each)\n",
    "    warped,Minv=do_perspective_transform(img)\n",
    "    # Save all perspective transformed images in output_images folder\n",
    "    #cv2.imwrite(\"output_images/perspective_transformed_images/\"+each[33:38]+\".jpg\",warped)\n",
    "images = glob.glob('output_images/undistorted_images/straight_lines*.jpg')\n",
    "for each in images:\n",
    "    #print(each[33:48])\n",
    "    img = mpimg.imread(each)\n",
    "    warped,Minv=do_perspective_transform(img)\n",
    "    #Save all perspective transformed images in output_images folder\n",
    "    #cv2.imwrite(\"output_images/perspective_transformed_images/\"+each[33:48]+\".jpg\",warped)    \n"
   ]
  },
  {
   "cell_type": "markdown",
   "metadata": {},
   "source": [
    "## Function to calculate the gradient along a given direction"
   ]
  },
  {
   "cell_type": "code",
   "execution_count": 318,
   "metadata": {},
   "outputs": [],
   "source": [
    "def abs_sobel_thresh(img, orient='x', thresh_min=0, thresh_max=255):\n",
    "    \n",
    "    # Apply the following steps to img\n",
    "    # 1) Convert to grayscale\n",
    "    gray = cv2.cvtColor(img,cv2.COLOR_RGB2GRAY)\n",
    "    # 2) Take the derivative in x or y given orient = 'x' or 'y'\n",
    "    if(orient=='x'):\n",
    "        sobel = cv2.Sobel(gray, cv2.CV_64F, 1, 0)\n",
    "    else:\n",
    "        sobel = cv2.Sobel(gray, cv2.CV_64F, 0, 1)\n",
    "    # 3) Take the absolute value of the derivative or gradient\n",
    "    abs_sobel = np.absolute(sobel)\n",
    "    # 4) Scale to 8-bit (0 - 255) then convert to type = np.uint8\n",
    "    scaled_sobel = np.uint8(255*abs_sobel/np.max(abs_sobel))\n",
    "\n",
    "    # 5) Create a mask of 1's where the scaled gradient magnitude \n",
    "            # is > thresh_min and < thresh_max\n",
    "    mask = (scaled_sobel >= thresh_min) & (scaled_sobel <= thresh_max)\n",
    "    sxbinary = np.zeros_like(scaled_sobel)\n",
    "    sxbinary[mask]=1\n",
    "    # 6) Return this mask as your binary_output image\n",
    "    \n",
    "    return sxbinary"
   ]
  },
  {
   "cell_type": "markdown",
   "metadata": {},
   "source": [
    "## Function to calculate the magnitude of the gradient"
   ]
  },
  {
   "cell_type": "code",
   "execution_count": 319,
   "metadata": {},
   "outputs": [],
   "source": [
    "def mag_thresh(img, sobel_kernel=3, mag_thresh=(0, 255)):\n",
    "    thresh_min = mag_thresh[0]\n",
    "    thresh_max = mag_thresh[1]\n",
    "    \n",
    "    # Apply the following steps to img\n",
    "    # 1) Convert to grayscale\n",
    "    gray = cv2.cvtColor(img,cv2.COLOR_RGB2GRAY)\n",
    "    # 2) Take the gradient in x and y separately\n",
    "    sobel_x = cv2.Sobel(gray, cv2.CV_64F, 1, 0)\n",
    "    sobel_y = cv2.Sobel(gray, cv2.CV_64F, 0, 1)\n",
    "    # 3) Calculate the magnitude \n",
    "    abs_sobelxy = np.sqrt(np.power(sobel_x,2)+np.power(sobel_y,2))\n",
    "    # 4) Scale to 8-bit (0 - 255) and convert to type = np.uint8\n",
    "    scaled_sobel = np.uint8(255*abs_sobelxy/np.max(abs_sobelxy))\n",
    "    # 5) Create a binary mask where mag thresholds are met\n",
    "    mask = (scaled_sobel >= thresh_min) & (scaled_sobel <= thresh_max)\n",
    "    sxbinary = np.zeros_like(scaled_sobel)\n",
    "    sxbinary[mask]=1\n",
    "    # 6) Return this mask as your binary_output image\n",
    "    \n",
    "    return sxbinary"
   ]
  },
  {
   "cell_type": "markdown",
   "metadata": {},
   "source": [
    "## Function to calculate the direction of the gradient"
   ]
  },
  {
   "cell_type": "code",
   "execution_count": 320,
   "metadata": {},
   "outputs": [],
   "source": [
    "def dir_threshold(img, sobel_kernel, thresh):\n",
    "    thresh_min = thresh[0]\n",
    "    thresh_max = thresh[1]\n",
    "    # Apply the following steps to img\n",
    "    # 1) Convert to grayscale\n",
    "    gray = cv2.cvtColor(img,cv2.COLOR_RGB2GRAY)\n",
    "    # 2) Take the gradient in x and y separately\n",
    "    sobel_x = cv2.Sobel(gray, cv2.CV_64F, 1, 0,ksize=sobel_kernel)\n",
    "    sobel_y = cv2.Sobel(gray, cv2.CV_64F, 0, 1,ksize=sobel_kernel)\n",
    "    # 3) Take the absolute value of the x and y gradients\n",
    "    abs_sobel_x = np.absolute(sobel_x)\n",
    "    abs_sobel_y = np.absolute(sobel_y)\n",
    "    # 4) Use np.arctan2(abs_sobely, abs_sobelx) to calculate the direction of the gradient \n",
    "    dirn_gradient = np.arctan2(abs_sobel_y, abs_sobel_x)\n",
    "    # 5) Create a binary mask where direction thresholds are met\n",
    "    mask = (dirn_gradient >= thresh_min) & (dirn_gradient <= thresh_max)\n",
    "    # 6) Return this mask as your binary_output image\n",
    "    sxbinary = np.zeros_like(dirn_gradient)\n",
    "    sxbinary[mask]=1\n",
    "    return sxbinary"
   ]
  },
  {
   "cell_type": "markdown",
   "metadata": {},
   "source": [
    "## Visualizing Sobel thresholds.\n",
    "[Interactivity in Jupyter Notebooks](https://towardsdatascience.com/a-very-simple-demo-of-interactive-controls-on-jupyter-notebook-4429cf46aabd)"
   ]
  },
  {
   "cell_type": "markdown",
   "metadata": {},
   "source": [
    "##  Absolute sobel threshold"
   ]
  },
  {
   "cell_type": "markdown",
   "metadata": {},
   "source": [
    "## Function to visualize images"
   ]
  },
  {
   "cell_type": "code",
   "execution_count": 321,
   "metadata": {},
   "outputs": [],
   "source": [
    "def visualize_Image(input,output,input_title,output_title):\n",
    "    f, (ax1, ax2) = plt.subplots(1, 2, figsize=(20,10))\n",
    "    f.subplots_adjust(hspace = .2, wspace=.05)\n",
    "    ax1.imshow(input);\n",
    "    ax1.set_title(input_title, fontsize=30)\n",
    "    ax2.imshow(output, cmap='gray');\n",
    "    ax2.set_title(output_title, fontsize=30)"
   ]
  },
  {
   "cell_type": "code",
   "execution_count": 322,
   "metadata": {},
   "outputs": [],
   "source": [
    "from ipywidgets import interact, interactive, fixed\n",
    "def abs_sobel_update(thresh_min=21, thresh_max=201):\n",
    "    test_image = cv2.imread(\"output_images/perspective_transformed_images/straight_lines1.jpg\")\n",
    "    output_img = abs_sobel_thresh(test_image, 'x', thresh_min, thresh_max)\n",
    "    # Visualize sobel absolute threshold\n",
    "    #visualize_Image(test_image,output_img,'Unwarped Image','Sobel Absolute')\n",
    "    return output_img\n",
    "# interact(abs_sobel_update, \n",
    "#          thresh_min=(0,255), \n",
    "#          thresh_max=(0,255));"
   ]
  },
  {
   "cell_type": "markdown",
   "metadata": {},
   "source": [
    "##  Sobel Magnitude threshold"
   ]
  },
  {
   "cell_type": "code",
   "execution_count": 323,
   "metadata": {},
   "outputs": [],
   "source": [
    "from ipywidgets import interact, interactive, fixed\n",
    "def mag_sobel_update(kernel_size=13, min_thresh=25, max_thresh=150):\n",
    "    test_image = cv2.imread(\"output_images/perspective_transformed_images/straight_lines1.jpg\")\n",
    "    output_img = mag_thresh(test_image, kernel_size, (min_thresh, max_thresh))\n",
    "    # Visualize sobel magnitude threshold\n",
    "    #visualize_Image(test_image,output_img,'Unwarped Image','Sobel Magnitude')\n",
    "    return output_img\n",
    "# interact(mag_sobel_update, kernel_size=(3,31,2), \n",
    "#                  min_thresh=(0,255), \n",
    "#                  max_thresh=(0,255));"
   ]
  },
  {
   "cell_type": "markdown",
   "metadata": {},
   "source": [
    "##  Sobel Direction threshold"
   ]
  },
  {
   "cell_type": "code",
   "execution_count": 324,
   "metadata": {},
   "outputs": [],
   "source": [
    "def dir_sobel_update(kernel_size=7, min_thresh=0.2, max_thresh=0.9):\n",
    "    test_image = cv2.imread(\"output_images/perspective_transformed_images/straight_lines1.jpg\")\n",
    "    output_img = dir_threshold(test_image, kernel_size, (min_thresh, max_thresh))\n",
    "    # Visualize sobel direction threshold\n",
    "    #visualize_Image(test_image,output_img,'Unwarped Image','Sobel Direction')\n",
    "    return output_img\n",
    "# interact(dir_sobel_update, kernel_size=(3,31,2), \n",
    "#                  min_thresh=(0,np.pi/2,0.01), \n",
    "#                  max_thresh=(0,np.pi/2,0.01));"
   ]
  },
  {
   "cell_type": "markdown",
   "metadata": {},
   "source": [
    "### Sobel Magnitude and Sobel Absolute Threshold"
   ]
  },
  {
   "cell_type": "code",
   "execution_count": 325,
   "metadata": {},
   "outputs": [],
   "source": [
    "test_image = cv2.imread(\"output_images/perspective_transformed_images/straight_lines1.jpg\")\n",
    "def dir_mag_sobel_update(mag_kernel_size=13, mag_min_thresh=25, mag_max_thresh=150, abs_min_thresh=21, abs_max_thresh=201):\n",
    "    output_img_mag = mag_sobel_update(mag_kernel_size, mag_min_thresh, mag_max_thresh)\n",
    "    output_img_abs = abs_sobel_update(abs_min_thresh, abs_max_thresh)\n",
    "    combined = np.zeros_like(output_img_mag)\n",
    "    combined[((output_img_mag == 1) | (output_img_abs == 1))] = 1\n",
    "    # Visualize sobel magnitude and sobel direction threshold\n",
    "    #visualize_Image(test_image,combined,'Unwarped Image','Sobel Magnitude and Absolute')\n",
    "\n",
    "# interact(dir_mag_sobel_update, mag_kernel_size=(1,31,2), \n",
    "#                  mag_min_thresh=(0,255), \n",
    "#                  mag_max_thresh=(0,255), \n",
    "#                  abs_min_thresh=(0,255), \n",
    "#                  abs_max_thresh=(0,255));\n"
   ]
  },
  {
   "cell_type": "markdown",
   "metadata": {},
   "source": [
    "## Visualize multiple color space channels"
   ]
  },
  {
   "cell_type": "code",
   "execution_count": 326,
   "metadata": {},
   "outputs": [],
   "source": [
    "test_image = cv2.imread(\"output_images/perspective_transformed_images/test5.jpg\")\n",
    "test_image_R = test_image[:,:,0]\n",
    "test_image_G = test_image[:,:,1]\n",
    "test_image_B = test_image[:,:,2]\n",
    "test_image_HSV = cv2.cvtColor(test_image, cv2.COLOR_RGB2HSV)\n",
    "test_image_H = test_image_HSV[:,:,0]\n",
    "test_image_S = test_image_HSV[:,:,1]\n",
    "test_image_V = test_image_HSV[:,:,2]\n",
    "test_image_HLS = cv2.cvtColor(test_image, cv2.COLOR_RGB2HLS)\n",
    "test_image_HH = test_image_HSV[:,:,0]\n",
    "test_image_LL = test_image_HSV[:,:,1]\n",
    "test_image_SS = test_image_HSV[:,:,2]\n",
    "test_image_LAB = cv2.cvtColor(test_image, cv2.COLOR_RGB2Lab)\n",
    "test_image_L = test_image_LAB[:,:,0]\n",
    "test_image_A = test_image_LAB[:,:,1]\n",
    "test_image_LAB_B = test_image_LAB[:,:,2]\n",
    "# fig, axs = plt.subplots(4,3, figsize=(16, 12))\n",
    "# fig.subplots_adjust(hspace = .4, wspace=.001)\n",
    "# axs = axs.ravel()\n",
    "# axs[0].imshow(test_image_R, cmap='gray')\n",
    "# axs[0].set_title('RGB R-channel', fontsize=20)\n",
    "# axs[1].imshow(test_image_G, cmap='gray')\n",
    "# axs[1].set_title('RGB G-Channel', fontsize=20)\n",
    "# axs[2].imshow(test_image_B, cmap='gray')\n",
    "# axs[2].set_title('RGB B-channel', fontsize=20)\n",
    "# axs[3].imshow(test_image_H, cmap='gray')\n",
    "# axs[3].set_title('HSV H-Channel', fontsize=20)\n",
    "# axs[4].imshow(test_image_S, cmap='gray')\n",
    "# axs[4].set_title('HSV S-channel', fontsize=20)\n",
    "# axs[5].imshow(test_image_V, cmap='gray')\n",
    "# axs[5].set_title('HSV V-Channel', fontsize=20)\n",
    "# axs[6].imshow(test_image_HH, cmap='gray')\n",
    "# axs[6].set_title('HLS H-Channel', fontsize=20)\n",
    "# axs[7].imshow(test_image_LL, cmap='gray')\n",
    "# axs[7].set_title('HLS L-channel', fontsize=20)\n",
    "# axs[8].imshow(test_image_SS, cmap='gray')\n",
    "# axs[8].set_title('HLS S-Channel', fontsize=20)\n",
    "# axs[9].imshow(test_image_L, cmap='gray')\n",
    "# axs[9].set_title('LAB L-channel', fontsize=20)\n",
    "# axs[10].imshow(test_image_A, cmap='gray')\n",
    "# axs[10].set_title('LAB A-Channel', fontsize=20)\n",
    "# axs[11].imshow(test_image_LAB_B, cmap='gray')\n",
    "# axs[11].set_title('LAB B-Channel', fontsize=20)"
   ]
  },
  {
   "cell_type": "markdown",
   "metadata": {},
   "source": [
    "## Visualizing Colorspaces thresholding\n",
    "[Colorspaces for lane detection](https://towardsdatascience.com/teaching-cars-to-see-advanced-lane-detection-using-computer-vision-87a01de0424f)\n",
    "***\n",
    "**Using the output of the above cell and the information in the above link we shall attempt only the following thresholds**.\n",
    "**We shall first run the thresholds on one test_image and when we fine tune the thresholds**\n",
    "**we shall then check the thresholds on all test images**"
   ]
  },
  {
   "cell_type": "markdown",
   "metadata": {},
   "source": [
    "## RGB R channel Thresholding"
   ]
  },
  {
   "cell_type": "code",
   "execution_count": 327,
   "metadata": {},
   "outputs": [],
   "source": [
    "def R_threshold(image,thresh=(0, 255)):\n",
    "    R = image[:,:,0]\n",
    "    G = image[:,:,1]\n",
    "    B = image[:,:,2]\n",
    "    binary = np.zeros_like(R)\n",
    "    binary[(R > thresh[0]) & (R <= thresh[1])] = 1\n",
    "    return binary"
   ]
  },
  {
   "cell_type": "markdown",
   "metadata": {},
   "source": [
    "## HLS S-channel Thresholding"
   ]
  },
  {
   "cell_type": "code",
   "execution_count": 328,
   "metadata": {},
   "outputs": [],
   "source": [
    "def S_threshold(image,thresh=(0, 255)):\n",
    "    hls = cv2.cvtColor(image, cv2.COLOR_RGB2HLS)\n",
    "    H = hls[:,:,0]\n",
    "    L = hls[:,:,1]\n",
    "    S = hls[:,:,2]\n",
    "    binary = np.zeros_like(S)\n",
    "    binary[(S > thresh[0]) & (S <= thresh[1])] = 1\n",
    "    return binary"
   ]
  },
  {
   "cell_type": "markdown",
   "metadata": {},
   "source": [
    "## HLS L-channel Thresholding"
   ]
  },
  {
   "cell_type": "code",
   "execution_count": 329,
   "metadata": {},
   "outputs": [],
   "source": [
    "def L_threshold(image,thresh=(0, 255)):\n",
    "    hls = cv2.cvtColor(image, cv2.COLOR_RGB2HLS)\n",
    "    H = hls[:,:,0]\n",
    "    L = hls[:,:,1]\n",
    "    S = hls[:,:,2]\n",
    "    L = L*(255/np.max(L))\n",
    "    binary = np.zeros_like(L)\n",
    "    binary[(L > thresh[0]) & (L <= thresh[1])] = 1\n",
    "    return binary"
   ]
  },
  {
   "cell_type": "markdown",
   "metadata": {},
   "source": [
    "## HSV V-channel Thresholding"
   ]
  },
  {
   "cell_type": "code",
   "execution_count": 330,
   "metadata": {},
   "outputs": [],
   "source": [
    "def V_threshold(image,thresh=(0, 255)):\n",
    "    hsv = cv2.cvtColor(image, cv2.COLOR_RGB2HSV)\n",
    "    H = hsv[:,:,0]\n",
    "    S = hsv[:,:,1]\n",
    "    V = hsv[:,:,2]\n",
    "    binary = np.zeros_like(V)\n",
    "    binary[(V > thresh[0]) & (V <= thresh[1])] = 1\n",
    "    return binary"
   ]
  },
  {
   "cell_type": "markdown",
   "metadata": {},
   "source": [
    "## LAB L-channel Thresholding"
   ]
  },
  {
   "cell_type": "code",
   "execution_count": 331,
   "metadata": {},
   "outputs": [],
   "source": [
    "def Lab_L_threshold(image,thresh=(0, 255)):\n",
    "    lab = cv2.cvtColor(image, cv2.COLOR_RGB2Lab)\n",
    "    L = lab[:,:,0]\n",
    "    A = lab[:,:,1]\n",
    "    B = lab[:,:,2]\n",
    "    binary = np.zeros_like(L)\n",
    "    binary[(L > thresh[0]) & (L <= thresh[1])] = 1\n",
    "    return binary"
   ]
  },
  {
   "cell_type": "markdown",
   "metadata": {},
   "source": [
    "## LAB B-channel Thresholding"
   ]
  },
  {
   "cell_type": "code",
   "execution_count": 332,
   "metadata": {},
   "outputs": [],
   "source": [
    "def Lab_B_threshold(image,thresh=(0, 255)):\n",
    "    lab = cv2.cvtColor(image, cv2.COLOR_RGB2Lab)\n",
    "    L = lab[:,:,0]\n",
    "    A = lab[:,:,1]\n",
    "    B = lab[:,:,2]\n",
    "    binary = np.zeros_like(B)\n",
    "    if np.max(B) > 175:\n",
    "        B= B*(255/np.max(B))\n",
    "    binary[(B > thresh[0]) & (B <= thresh[1])] = 1\n",
    "    return binary"
   ]
  },
  {
   "cell_type": "code",
   "execution_count": 333,
   "metadata": {},
   "outputs": [],
   "source": [
    "test_image = cv2.imread(\"output_images/perspective_transformed_images/straight_lines1.jpg\")#150,221\n",
    "def R_color_update(min_thresh=224, max_thresh=255):\n",
    "    output_img_R = R_threshold(test_image,(min_thresh, max_thresh)) \n",
    "    # Visualize R-channel threshold\n",
    "    #visualize_Image(test_image,output_img_R,'Undistorted Image','RGB R-Channel')\n",
    "    #plt.imsave('output_images/threshold_output/straight_lines1_RGB_R.jpg',output_img_R,cmap=mpimg.cm.gray)\n",
    "    \n",
    "# interact(R_color_update,\n",
    "#          min_thresh=(0,255), \n",
    "#          max_thresh=(0,255));\n",
    "\n"
   ]
  },
  {
   "cell_type": "code",
   "execution_count": 334,
   "metadata": {},
   "outputs": [],
   "source": [
    "test_image = cv2.imread(\"output_images/perspective_transformed_images/straight_lines1.jpg\")\n",
    "def S_color_update(min_thresh=90, max_thresh=255):\n",
    "    output_img_S = S_threshold(test_image,(min_thresh, max_thresh)) \n",
    "    # Visualize HLS S-channel threshold\n",
    "    #visualize_Image(test_image,output_img_S,'Undistorted Image','HLS S-Channel')\n",
    "    #plt.imsave('output_images/threshold_output/straight_lines1_HLS_S.jpg',output_img_S,cmap=mpimg.cm.gray)\n",
    "    \n",
    "# interact(S_color_update,\n",
    "#          min_thresh=(0,255), \n",
    "#          max_thresh=(0,255));\n"
   ]
  },
  {
   "cell_type": "code",
   "execution_count": 335,
   "metadata": {},
   "outputs": [],
   "source": [
    "test_image = cv2.imread(\"output_images/perspective_transformed_images/straight_lines1.jpg\")\n",
    "def L_color_update(min_thresh=220, max_thresh=255):\n",
    "    output_img_L = L_threshold(test_image,(min_thresh, max_thresh)) \n",
    "    \n",
    "    # Visualize HLS L-channel threshold\n",
    "    #visualize_Image(test_image,output_img_L,'Undistorted Image','HLS L-Channel')\n",
    "    #plt.imsave('output_images/threshold_output/straight_lines1_HLS_L.jpg',output_img_L,cmap=mpimg.cm.gray)\n",
    "    \n",
    "# interact(L_color_update,\n",
    "#          min_thresh=(0,255), \n",
    "#          max_thresh=(0,255));"
   ]
  },
  {
   "cell_type": "code",
   "execution_count": 336,
   "metadata": {},
   "outputs": [],
   "source": [
    "test_image = cv2.imread(\"output_images/perspective_transformed_images/straight_lines1.jpg\")\n",
    "def V_color_update(min_thresh=120, max_thresh=255):\n",
    "    output_img_V = V_threshold(test_image,(min_thresh, max_thresh)) \n",
    "    # Visualize HSV V-channel threshold\n",
    "    #visualize_Image(test_image,output_img_V,'Undistorted Image','HSV V-Channel')\n",
    "    #plt.imsave('output_images/threshold_output/straight_lines1_HSV_V.jpg',output_img_V,cmap=mpimg.cm.gray)\n",
    "# interact(V_color_update,\n",
    "#          min_thresh=(0,255), \n",
    "#          max_thresh=(0,255));"
   ]
  },
  {
   "cell_type": "code",
   "execution_count": 337,
   "metadata": {},
   "outputs": [],
   "source": [
    "test_image = cv2.imread(\"output_images/perspective_transformed_images/straight_lines1.jpg\")\n",
    "def L_color_update(min_thresh=125, max_thresh=250):\n",
    "    output_img_L = L_threshold(test_image,(min_thresh, max_thresh))\n",
    "    # Visualize LAB L-channel threshold\n",
    "    #visualize_Image(test_image,output_img_L,'Undistorted Image','LAB L-Channel')\n",
    "    #plt.imsave('output_images/threshold_output/straight_lines1_LAB_L.jpg',output_img_L,cmap=mpimg.cm.gray)\n",
    "# interact(L_color_update,\n",
    "#          min_thresh=(0,255), \n",
    "#          max_thresh=(0,255));"
   ]
  },
  {
   "cell_type": "code",
   "execution_count": 338,
   "metadata": {},
   "outputs": [],
   "source": [
    "test_image = cv2.imread(\"output_images/perspective_transformed_images/straight_lines1.jpg\")\n",
    "def Lab_B_color_update(min_thresh=190, max_thresh=255):\n",
    "    output_img_B = Lab_B_threshold(test_image,(min_thresh, max_thresh))\n",
    "    # Visualize LAB B-channel threshold\n",
    "    # visualize_Image(test_image,output_img_B,'Undistorted Image','LAB B-Channel')\n",
    "    #plt.imsave('output_images/threshold_output/straight_lines1_LAB_B.jpg',output_img_B,cmap=mpimg.cm.gray)\n",
    "# interact(Lab_B_color_update,\n",
    "#          min_thresh=(0,255), \n",
    "#          max_thresh=(0,255));"
   ]
  },
  {
   "cell_type": "markdown",
   "metadata": {},
   "source": [
    "## Pipeline for  image processing\n",
    "### Takes an image and returns the lanes found "
   ]
  },
  {
   "cell_type": "code",
   "execution_count": 470,
   "metadata": {},
   "outputs": [],
   "source": [
    "from PIL import Image\n",
    "def  img_processing_pipeline(img):\n",
    "    # Undistort\n",
    "    img_undistort = cal_undistort(img, mtx, dist) # mtx and dist are availabe having been calculated already\n",
    "    \n",
    "    # Perspective Transform\n",
    "    warped,Minv = do_perspective_transform(img_undistort)\n",
    "\n",
    "    # Sobel Absolute and Sobel Maginitude (using default parameters)\n",
    "    #img_sobelAbsMag = dir_mag_sobel_update(warped)\n",
    "    \n",
    "    # RGB R channel Threshold \n",
    "    #img_RGB_R = R_threshold(warped,(150,221))\n",
    "    \n",
    "    # HLS S-channel Threshold \n",
    "    #img_HLS_S = S_threshold(warped,(90,255))\n",
    "    \n",
    "    # HLS L-channel Threshold \n",
    "    img_HLS_L = L_threshold(warped,(220,255))\n",
    "\n",
    "    # HSV V-channel Threshold \n",
    "    #img_HSV_V = V_threshold(warped,(120,255))\n",
    "\n",
    "    # Lab L-channel Threshold \n",
    "    #img_LAB_L = Lab_L_threshold(warped,(125,250))\n",
    "    \n",
    "    # Lab B-channel Threshold \n",
    "    img_LAB_B = Lab_B_threshold(warped,(190,255))\n",
    "    \n",
    "    # After trial and error we find that HLS_L and LAB_B together give the best output\n",
    "    combined = np.zeros_like(img_HLS_L)\n",
    "    combined[(img_HLS_L == 1) | (img_LAB_B == 1)]=1 \n",
    "    return (combined,Minv,img_undistort)\n",
    "\n",
    "# test_image = mpimg.imread(\"test_images/straight_lines1.jpg\")\n",
    "# out_img,Minv = img_processing_pipeleine(test_image)\n",
    "# # Visualize Final Image Processed\n",
    "# visualize_Image(test_image,out_img,'Test Image','Lane image')\n",
    "# images = glob.glob('test_images/test*.jpg')\n",
    "for each in images:\n",
    "    #print(each[12:17])\n",
    "    test_img = mpimg.imread(each)\n",
    "    out_img,Minv,_=img_processing_pipeline(test_img)\n",
    "    #visualize_Image(test_img,out_img,str(each),'Lane image')\n",
    "    # Save all perspective transformed images in output_images folder\n",
    "    #plt.imsave('output_images/pipeline_output/'+each[12:17]+\"_final_output\"+\".jpg\",out_img,cmap=mpimg.cm.gray)\n",
    "images = glob.glob('test_images/straight_lines*.jpg')\n",
    "for each in images:\n",
    "    #print(each[12:27])\n",
    "    test_img = mpimg.imread(each)\n",
    "    out_img,Minv,_=img_processing_pipeline(test_img)\n",
    "    #visualize_Image(test_img,out_img,str(each),'Lane image')\n",
    "    #Save all perspective transformed images in output_images folder\n",
    "    #plt.imsave('output_images/pipeline_output/'+each[12:27]+\"_final_output\"+\".jpg\",out_img,cmap=mpimg.cm.gray)\n"
   ]
  },
  {
   "cell_type": "markdown",
   "metadata": {},
   "source": [
    "## Detecting lanes using sliding windows using savitzky-golay-filter"
   ]
  },
  {
   "cell_type": "code",
   "execution_count": 694,
   "metadata": {},
   "outputs": [],
   "source": [
    "# We are trying to use scipy's savitzky-golay-filter to curb noise in the y axis points and\n",
    "# see if it improves our lane detection\n",
    "\n",
    "import scipy.signal as ss\n",
    "\n",
    "def find_lane_pixels(binary_warped):\n",
    "    # Take a histogram of the bottom half of the image\n",
    "    histogram = np.sum(binary_warped[binary_warped.shape[0]//2:,:], axis=0)\n",
    "    #print(binary_warped.shape[0])\n",
    "    #plt.plot(histogram)\n",
    "    # Create an output image to draw on and visualize the result\n",
    "    out_img = binary_warped#np.dstack((binary_warped, binary_warped, binary_warped))\n",
    "    # Find the peak of the left and right halves of the histogram\n",
    "    # These will be the starting point for the left and right lines\n",
    "    midpoint = np.int(histogram.shape[0]//2)\n",
    "    leftx_base = np.argmax(histogram[0:midpoint],axis=0)[0]\n",
    "    rightx_base = np.argmax(histogram[midpoint:],axis=0)[0]+midpoint\n",
    "    #print(midpoint,leftx_base,rightx_base)\n",
    "    # HYPERPARAMETERS\n",
    "    # Choose the number of sliding windows\n",
    "    nwindows = 9\n",
    "    # Set the width of the windows +/- margin\n",
    "    margin = 50\n",
    "    # Set minimum number of pixels found to recenter window\n",
    "    minpix = 10\n",
    "\n",
    "    # Set height of windows - based on nwindows above and image shape\n",
    "    window_height = np.int(binary_warped.shape[0]//nwindows)\n",
    "    # Identify the x and y positions of all nonzero pixels in the image\n",
    "    nonzero = binary_warped.nonzero()\n",
    "    nonzeroy = np.array(nonzero[0])\n",
    "    nonzerox = np.array(nonzero[1])\n",
    "    # Current positions to be updated later for each window in nwindows\n",
    "    leftx_current = leftx_base\n",
    "    rightx_current = rightx_base\n",
    "\n",
    "    # Create empty lists to receive left and right lane pixel indices\n",
    "    left_lane_inds = []\n",
    "    right_lane_inds = []\n",
    "\n",
    "    # Step through the windows one by one\n",
    "    for window in range(nwindows):\n",
    "        # Identify window boundaries in x and y (and right and left)\n",
    "        win_y_low = binary_warped.shape[0] - (window+1)*window_height\n",
    "        win_y_high = binary_warped.shape[0] - window*window_height\n",
    "        win_xleft_low = leftx_current - margin\n",
    "        win_xleft_high = leftx_current + margin\n",
    "        win_xright_low = rightx_current - margin\n",
    "        win_xright_high = rightx_current + margin\n",
    "        # print((win_xleft_low,win_y_low),(win_xleft_high,win_y_high))\n",
    "        # print((win_xright_low,win_y_low),(win_xright_high,win_y_high))\n",
    "        # Draw the windows on the visualization image\n",
    "        cv2.rectangle(out_img,(win_xleft_low,win_y_low),\n",
    "        (win_xleft_high,win_y_high),(0,255,0), 2) \n",
    "        \n",
    "        cv2.rectangle(out_img,(win_xright_low,win_y_low),\n",
    "        (win_xright_high,win_y_high),(0,255,0), 2) \n",
    "        \n",
    "        \n",
    "        \n",
    "        # Identify the nonzero pixels in x and y within the window #\n",
    "        good_left_inds = ((nonzeroy >= win_y_low) & (nonzeroy < win_y_high) & \n",
    "        (nonzerox >= win_xleft_low) &  (nonzerox < win_xleft_high)).nonzero()[0]\n",
    "        \n",
    "        good_right_inds = ((nonzeroy >= win_y_low) & (nonzeroy < win_y_high) & \n",
    "        (nonzerox >= win_xright_low) &  (nonzerox < win_xright_high)).nonzero()[0]\n",
    "        \n",
    "        # Append these indices to the lists\n",
    "        left_lane_inds.append(good_left_inds)\n",
    "        right_lane_inds.append(good_right_inds)\n",
    "        #print(left_lane_inds)\n",
    "        # The below parameter is our addition to the code. The logic is in absence of data\n",
    "        # we shift the leftx and rightx by this much amount.\n",
    "        _margin = 10\n",
    "        \n",
    "        # We calculate the curvature and accordingly the sliding windows\n",
    "        # slide left or right\n",
    "        \n",
    "        good_left_inds_y = np.array(nonzeroy[good_left_inds])\n",
    "        good_left_inds_x = np.array(nonzerox[good_left_inds])\n",
    "        good_right_inds_y = np.array(nonzeroy[good_right_inds])\n",
    "        good_right_inds_x = np.array(nonzerox[good_right_inds])\n",
    "        \n",
    "        try:\n",
    "            left_lane_cr = np.polyfit(good_left_inds_y, good_left_inds_x, 2)\n",
    "            right_lane_cr = np.polyfit(good_right_inds_y, good_right_inds_x, 2)\n",
    "            if(left_lane_cr < 0 | right_lane_cr < 0):\n",
    "                _margin= -_margin\n",
    "        except:\n",
    "            # Avoids error due to no data above\n",
    "            pass\n",
    "        \n",
    "        # If you found > minpix pixels, recenter next window on their mean position\n",
    "        if len(good_left_inds) > minpix:\n",
    "            leftx_current = np.int(np.mean(nonzerox[good_left_inds]))\n",
    "        # test code if less px than minpx found shift write by arbitrary _margin pixels\n",
    "        else:\n",
    "            leftx_current = leftx_current +_margin\n",
    "        if len(good_right_inds) > minpix:        \n",
    "            rightx_current = np.int(np.mean(nonzerox[good_right_inds]))\n",
    "        else:\n",
    "            rightx_current =  rightx_current +_margin\n",
    "    # Concatenate the arrays of indices (previously was a list of lists of pixels)\n",
    "    try:\n",
    "        left_lane_inds = np.concatenate(left_lane_inds)\n",
    "        right_lane_inds = np.concatenate(right_lane_inds)\n",
    "        # Extract left and right line pixel positions\n",
    "        leftx = nonzerox[left_lane_inds]\n",
    "        #print(leftx)\n",
    "        lefty = nonzeroy[left_lane_inds] \n",
    "        rightx = nonzerox[right_lane_inds]\n",
    "        righty = nonzeroy[right_lane_inds]\n",
    "        return leftx, lefty, rightx, righty, out_img\n",
    "    except ValueError:\n",
    "        # Avoids an error if the above is not implemented fully\n",
    "        pass\n",
    "\n",
    "#     # Extract left and right line pixel positions\n",
    "#     leftx = nonzerox[left_lane_inds]\n",
    "#     lefty = nonzeroy[left_lane_inds] \n",
    "#     rightx = nonzerox[right_lane_inds]\n",
    "#     righty = nonzeroy[right_lane_inds]\n",
    "\n",
    "    \n",
    "\n",
    "\n",
    "def fit_polynomial(binary_warped):\n",
    "    # Find our lane pixels first\n",
    "    leftx, lefty, rightx, righty, out_img = find_lane_pixels(binary_warped)\n",
    "    out_img = out_img.copy()\n",
    "    #print(rightx)\n",
    "    # Fit a second order polynomial to each using `np.polyfit`\n",
    "    # test code use savitzky_golay filter here\n",
    "    # ysg = savitzky_golay(y, window_size=31, order=4)\n",
    "    # TO-DO the parameters 31,4 need to be tuned.\n",
    "    \n",
    "    try:\n",
    "        lefty = ss.savgol_filter(lefty, 31, 4)\n",
    "        righty = ss.savgol_filter(righty, 31, 4)\n",
    "        lefty = lefty.astype(int)\n",
    "        righty = righty.astype(int)\n",
    "        left_fit = np.polyfit(lefty, leftx, 2)\n",
    "        right_fit = np.polyfit(righty, rightx, 2)\n",
    "        print(left_fit,right_fit)\n",
    "    except:\n",
    "        left_fit=1\n",
    "        right_fit=1\n",
    "        pass\n",
    "\n",
    "    # The above values need to be set manually for the next frame code.\n",
    "    #ignore the few top 300 pixels. So start at 300 bixels\n",
    "    \n",
    "    # Generate x and y values for plotting\n",
    "    # ignore the few top 360 pixels as generally the top image is devoid of lane ixels\n",
    "    ploty = np.linspace(360, binary_warped.shape[0]-1, binary_warped.shape[0] )\n",
    "    try:\n",
    "        left_fitx = left_fit[0]*ploty**2 + left_fit[1]*ploty + left_fit[2]\n",
    "        right_fitx = right_fit[0]*ploty**2 + right_fit[1]*ploty + right_fit[2]\n",
    "    except TypeError:\n",
    "        # Avoids an error if `left` and `right_fit` are still none or incorrect\n",
    "        print('The function failed to fit a line!')\n",
    "        left_fitx = 1*ploty**2 + 1*ploty\n",
    "        right_fitx = 1*ploty**2 + 1*ploty\n",
    "\n",
    "    ## Visualization ##\n",
    "    # Due to SG filter some lefty values are above the image shape size. hence the code below\n",
    "    \n",
    "    lefty[lefty >= binary_warped.shape[0]] = binary_warped.shape[0]-1\n",
    "    righty[righty >= binary_warped.shape[0]] = binary_warped.shape[0]-1\n",
    "    \n",
    "    # Colors in the left and right lane regions\n",
    "    out_img[lefty, leftx] = [255, 0, 0]\n",
    "    out_img[righty, rightx] = [0, 0, 255]\n",
    "\n",
    "    # Plots the left and right polynomials on the lane lines\n",
    "    #plt.plot(left_fitx, ploty, color='yellow')\n",
    "    #plt.plot(right_fitx, ploty, color='yellow')\n",
    "\n",
    "    return out_img\n"
   ]
  },
  {
   "cell_type": "markdown",
   "metadata": {},
   "source": [
    "## Testing lane detection using sliding window on all pipeline output images"
   ]
  },
  {
   "cell_type": "code",
   "execution_count": 695,
   "metadata": {},
   "outputs": [],
   "source": [
    "#Function to visualize lane images\n",
    "def visualize_Lane_Image(input_img,output_img,input_title,output_title):\n",
    "    f, (ax1, ax2) = plt.subplots(1, 2, figsize=(20,10))\n",
    "    f.subplots_adjust(hspace = .2, wspace=.05)\n",
    "    ax1.imshow(input_img);\n",
    "    ax1.set_title(input_title, fontsize=20)\n",
    "    ax2.imshow(output_img);\n",
    "    ax2.set_title(output_title, fontsize=20)"
   ]
  },
  {
   "cell_type": "code",
   "execution_count": 696,
   "metadata": {},
   "outputs": [],
   "source": [
    "\n",
    "images = glob.glob('output_images/pipeline_output/straight_lines*.jpg')\n",
    "for each in images:\n",
    "    #print(each[30:45])\n",
    "    in_img = mpimg.imread(each)\n",
    "    binary_warped = in_img.copy()\n",
    "    #out_img = fit_polynomial(binary_warped)\n",
    "    #visualize_Lane_Image(in_img,out_img,'Binary warped','Lane image')\n",
    "    #Save all lane detected images in output_images folder\n",
    "    #plt.imsave('output_images/lane_detected/'+each[30:45]+\"_lane_drawn\"+\".jpg\",out_img,cmap=mpimg.cm.gray)\n",
    "    \n",
    "images = glob.glob('output_images/pipeline_output/test*.jpg')\n",
    "for each in images:\n",
    "    #print(each[30:35])\n",
    "    in_img = mpimg.imread(each)\n",
    "    binary_warped = in_img.copy()\n",
    "    #out_img=fit_polynomial(binary_warped)\n",
    "    #visualize_Image(test_img,out_img,str(each),'Lane image')\n",
    "    #Save all perspective transformed images in output_images folder\n",
    "    #plt.imsave('output_images/lane_detected/'+each[30:35]+\"_lane_drawn\"+\".jpg\",out_img,cmap=mpimg.cm.gray)\n",
    "\n"
   ]
  },
  {
   "cell_type": "markdown",
   "metadata": {},
   "source": [
    "# Marking the lanes on original image\n"
   ]
  },
  {
   "cell_type": "markdown",
   "metadata": {},
   "source": [
    "## Image processing Pipeline final"
   ]
  },
  {
   "cell_type": "code",
   "execution_count": 697,
   "metadata": {},
   "outputs": [],
   "source": [
    "def  img_processing_pipeline_final(img):\n",
    "    (temp_output_img,Minv,undistort) = img_processing_pipeline(img)\n",
    "    plt.imsave('temp_output_img'+\".jpg\",temp_output_img,cmap=mpimg.cm.gray)\n",
    "    binary_warped = mpimg.imread('temp_output_img.jpg')\n",
    "    final_output_img = fit_polynomial(binary_warped)    \n",
    "    # Create an image to draw the lines on\n",
    "    warp_zero = np.zeros_like(final_output_img).astype(np.uint8)\n",
    "    #color_warp = np.dstack((warp_zero, warp_zero, warp_zero))\n",
    "    #print(color_warp.shape)\n",
    "    # Recast the x and y points into usable format for cv2.fillPoly()\n",
    "    \n",
    "    \n",
    "    pts_left = np.array([np.transpose(np.vstack([left_fitx, ploty]))])\n",
    "    pts_right = np.array([np.flipud(np.transpose(np.vstack([right_fitx, ploty])))])\n",
    "    pts = np.hstack((pts_left, pts_right))\n",
    "\n",
    "    # Draw the lane onto the warped blank image\n",
    "    cv2.fillPoly(warp_zero, np.int_([pts]), (0,255, 0))\n",
    "\n",
    "    # Warp the blank back to original image space using inverse perspective matrix (Minv)\n",
    "    newwarp = cv2.warpPerspective(warp_zero, Minv, (img.shape[1], img.shape[0])) \n",
    "    # Combine the result with the original image\n",
    "    result = cv2.addWeighted(undistort, 1, newwarp, 0.3, 0)\n",
    "    plt.imshow(result)\n",
    "    \n",
    "\n"
   ]
  },
  {
   "cell_type": "code",
   "execution_count": 698,
   "metadata": {},
   "outputs": [
    {
     "name": "stdout",
     "output_type": "stream",
     "text": [
      "[ 1.87001007e-05 -1.50412250e-02  3.73354324e+02] [-4.14404104e-05 -5.32963198e-02  1.09723990e+03]\n",
      "The function failed to fit a line!\n"
     ]
    },
    {
     "data": {
      "image/png": "[encoded data removed]",
      "text/plain": [
       "<Figure size 432x288 with 1 Axes>"
      ]
     },
     "metadata": {
      "needs_background": "light"
     },
     "output_type": "display_data"
    }
   ],
   "source": [
    "images = glob.glob('test_images/straight_lines*.jpg')\n",
    "for each in images:\n",
    "    #print(each[12:17])\n",
    "    img = cv2.imread(each)\n",
    "    img_processing_pipeline_final(img)\n",
    "    # Saving the undistorted images to the output dir\n",
    "    #cv2.imwrite(\"output_images/undistorted_images/\"+each[12:17]+\".jpg\",dst)"
   ]
  },
  {
   "cell_type": "code",
   "execution_count": null,
   "metadata": {},
   "outputs": [],
   "source": []
  },
  {
   "cell_type": "code",
   "execution_count": null,
   "metadata": {},
   "outputs": [],
   "source": []
  }
 ],
 "metadata": {
  "anaconda-cloud": {},
  "kernelspec": {
   "display_name": "Python 3",
   "language": "python",
   "name": "python3"
  },
  "language_info": {
   "codemirror_mode": {
    "name": "ipython",
    "version": 3
   },
   "file_extension": ".py",
   "mimetype": "text/x-python",
   "name": "python",
   "nbconvert_exporter": "python",
   "pygments_lexer": "ipython3",
   "version": "3.6.6"
  }
 },
 "nbformat": 4,
 "nbformat_minor": 1
}
